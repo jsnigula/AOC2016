{
 "cells": [
  {
   "cell_type": "code",
   "execution_count": 48,
   "id": "07d5f951",
   "metadata": {},
   "outputs": [],
   "source": [
    "def check_name(s):\n",
    "    \n",
    "    name, code = s.rsplit('-', 1)\n",
    "    sid , checksum = code.split('[')\n",
    "    checksum = checksum[:-1]\n",
    "    \n",
    "    cdict = {10:[], 9: [], 8: [], 7: [], 6: [], 5: [], 4: [], 3: [], 2: [], 1: []}\n",
    "    \n",
    "    for i in range(97, 123):\n",
    "        c = chr(i)\n",
    "        if c in name:\n",
    "            n = name.count(c)\n",
    "            cdict[n].append(c)\n",
    "        \n",
    "    code = ''\n",
    "    for i in range(10, 0, -1):\n",
    "        code += ''.join(cdict[i])\n",
    "        \n",
    "    if code[0:5] == checksum:\n",
    "        return int(sid)\n",
    "    \n",
    "    return 0\n",
    "\n",
    "def decode_name(s):\n",
    "\n",
    "    name, code = s.rsplit('-', 1)\n",
    "    sid , checksum = code.split('[')\n",
    "    checksum = checksum[:-1]\n",
    "\n",
    "    real_name = ''\n",
    "    for c in name:\n",
    "        if c == '-':\n",
    "            real_name += ' '\n",
    "        else:\n",
    "            real_name += chr((((ord(c) - 97) + int(sid)) % 26) + 97)\n",
    "            \n",
    "    return real_name"
   ]
  },
  {
   "cell_type": "code",
   "execution_count": 52,
   "id": "9ff5b8a4",
   "metadata": {},
   "outputs": [
    {
     "name": "stdout",
     "output_type": "stream",
     "text": [
      "Sum is 185371\n",
      "\n",
      "Part 2\n",
      "\n",
      "The Nort pole objects are in room \"northpole object storage\", id 984\n"
     ]
    }
   ],
   "source": [
    "with open('input4.txt', 'r') as inf:\n",
    "    data = [l.strip() for l in inf]\n",
    "    \n",
    "s = 0\n",
    "\n",
    "for r in data:\n",
    "    s += check_name(r)\n",
    "    \n",
    "print(f'Sum is {s}')\n",
    "\n",
    "print('\\nPart 2\\n')\n",
    "\n",
    "for r in data:\n",
    "    if 'north' in decode_name(r):\n",
    "        print(f'The Nort pole objects are in room \"{decode_name(r)}\", id {check_name(r)}')"
   ]
  },
  {
   "cell_type": "code",
   "execution_count": null,
   "id": "ea6cb2de",
   "metadata": {},
   "outputs": [],
   "source": []
  }
 ],
 "metadata": {
  "kernelspec": {
   "display_name": "Python 3 (ipykernel)",
   "language": "python",
   "name": "python3"
  },
  "language_info": {
   "codemirror_mode": {
    "name": "ipython",
    "version": 3
   },
   "file_extension": ".py",
   "mimetype": "text/x-python",
   "name": "python",
   "nbconvert_exporter": "python",
   "pygments_lexer": "ipython3",
   "version": "3.10.4"
  }
 },
 "nbformat": 4,
 "nbformat_minor": 5
}

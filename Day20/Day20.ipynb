{
 "cells": [
  {
   "cell_type": "code",
   "execution_count": 8,
   "id": "c713bf68-bbc2-424c-87f6-ebbc5bf727ff",
   "metadata": {},
   "outputs": [],
   "source": [
    "import numpy as np"
   ]
  },
  {
   "cell_type": "code",
   "execution_count": 9,
   "id": "91372b37-c79b-485d-abba-138614e418f0",
   "metadata": {},
   "outputs": [],
   "source": [
    "def read_input(infile):\n",
    "    ranges = []\n",
    "    with open(infile, 'r') as inf:\n",
    "        for line in inf.readlines():\n",
    "            v1, v2 = line.strip().split('-')\n",
    "            ranges.append((int(v1), int(v2)))\n",
    "    return ranges\n",
    "\n",
    "def find_adress(ranges, maxip):\n",
    "    m = np.ones(maxip+1)\n",
    "    for l, h in ranges:\n",
    "        m[l:h+1] = 0\n",
    "\n",
    "    w = np.where(m)\n",
    "    \n",
    "    return np.min(w), len(np.where(m)[0])"
   ]
  },
  {
   "cell_type": "code",
   "execution_count": 10,
   "id": "49dd6f90-719a-406b-8157-a0fde0cfca4b",
   "metadata": {},
   "outputs": [
    {
     "name": "stdout",
     "output_type": "stream",
     "text": [
      "*******\n",
      "Puzzle1\n",
      "*******\n",
      "\n",
      "\n",
      "Puzzle case\n",
      "===========\n",
      "\n",
      "Min available ip is: 23923783\n",
      "\n",
      "*******\n",
      "Puzzle2\n",
      "*******\n",
      "\n",
      "\n",
      "Puzzle case\n",
      "===========\n",
      "\n",
      "N available is: 125\n"
     ]
    }
   ],
   "source": [
    "print('*******\\nPuzzle1\\n*******\\n')\n",
    "\n",
    "print('\\nPuzzle case\\n===========\\n')\n",
    "\n",
    "inp = read_input('input20.txt')\n",
    "\n",
    "m, n = find_adress(inp, 4294967295)\n",
    "\n",
    "print(f'Min available ip is: {m}')\n",
    "\n",
    "assert m == 23923783\n",
    "\n",
    "print('\\n*******\\nPuzzle2\\n*******\\n')\n",
    "\n",
    "print('\\nPuzzle case\\n===========\\n')\n",
    "\n",
    "print(f'N available is: {n}')\n",
    "\n",
    "assert n == 125\n"
   ]
  },
  {
   "cell_type": "code",
   "execution_count": null,
   "id": "396d7079-fe26-4376-b121-d23c2d5a813b",
   "metadata": {},
   "outputs": [],
   "source": []
  }
 ],
 "metadata": {
  "kernelspec": {
   "display_name": "Python 3 (ipykernel)",
   "language": "python",
   "name": "python3"
  },
  "language_info": {
   "codemirror_mode": {
    "name": "ipython",
    "version": 3
   },
   "file_extension": ".py",
   "mimetype": "text/x-python",
   "name": "python",
   "nbconvert_exporter": "python",
   "pygments_lexer": "ipython3",
   "version": "3.10.4"
  }
 },
 "nbformat": 4,
 "nbformat_minor": 5
}

{
 "cells": [
  {
   "cell_type": "code",
   "execution_count": 2,
   "id": "02778e63-9575-4d5f-9d84-e8bdbdb13f9c",
   "metadata": {},
   "outputs": [],
   "source": [
    "import re\n",
    "import numpy as np"
   ]
  },
  {
   "cell_type": "code",
   "execution_count": 3,
   "id": "e0157d2d-cd0e-4912-89f5-91958fbbf1c3",
   "metadata": {},
   "outputs": [],
   "source": [
    "def read_input(infile):\n",
    "    nodes = []\n",
    "    with open(infile, 'r') as inf:\n",
    "        for line in inf.readlines():\n",
    "            if not line.startswith('/dev'):\n",
    "                continue\n",
    "            nodes_s = re.findall(r'/dev/grid/node-x(\\d+)-y(\\d+)\\W+(\\d+)T\\W+(\\d+)T\\W+(\\d+)T\\W+(\\d+)%.*', line)\n",
    "            nodes.append(tuple(int(v) for v in nodes_s[0]))\n",
    "\n",
    "    return nodes\n",
    "\n",
    "def find_pairs(nodes):\n",
    "    n_pairs = 0\n",
    "    for i in range(len(nodes)):\n",
    "        for j in range(len(nodes)):\n",
    "            if i == j:\n",
    "                continue\n",
    "            if nodes[i][3] > 0 and nodes[j][4] >= nodes[i][3]:\n",
    "                n_pairs += 1\n",
    "    return n_pairs\n",
    "\n",
    "def map_cluster(nodes):\n",
    "    nx = 0\n",
    "    ny = 0\n",
    "    for n in nodes:\n",
    "        nx = max(nx, n[0])\n",
    "        ny = max(ny, n[1])\n",
    "\n",
    "    cluster = np.zeros((ny+1, nx+1), dtype=int)\n",
    "\n",
    "    for n in nodes:\n",
    "        cluster[n[1], n[0]] = n[3]\n",
    "\n",
    "    print('    ' + ''.join([f'  {i:02d} ' for i in range(nx+1)]))\n",
    "    for r in range(ny+1):\n",
    "        print(f' {r:02d} ' + ''.join(['  #  ' if v > 300 else '  -  ' if v == 0 else '  .  ' for v in cluster[r,:]]))"
   ]
  },
  {
   "cell_type": "code",
   "execution_count": 5,
   "id": "e049d9f0-ee13-4247-b81d-18ae49a649be",
   "metadata": {},
   "outputs": [
    {
     "name": "stdout",
     "output_type": "stream",
     "text": [
      "      00   01   02   03   04   05   06   07   08   09   10   11   12   13   14   15   16   17   18   19   20   21   22   23   24   25   26   27   28   29   30   31   32   33   34 \n",
      " 00   .    .    .    .    .    .    .    .    .    .    .    .    .    .    .    .    .    .    .    .    .    .    .    .    .    .    .    .    .    .    .    .    .    .    .  \n",
      " 01   .    .    .    .    .    .    .    .    .    .    .    .    .    .    .    .    .    .    .    .    .    .    .    .    .    .    .    .    .    .    .    .    .    .    .  \n",
      " 02   .    .    .    .    .    .    .    .    .    .    .    .    .    .    .    .    .    .    .    .    .    .    .    .    .    .    .    .    .    .    .    .    .    .    .  \n",
      " 03   .    .    .    .    .    .    .    .    .    .    .    .    .    .    .    .    .    .    .    .    .    .    .    .    .    .    .    .    .    .    .    .    .    .    .  \n",
      " 04   .    .    .    .    .    .    .    .    .    .    .    .    .    .    .    .    .    .    .    .    .    .    .    .    .    .    .    .    .    .    .    .    .    .    .  \n",
      " 05   .    .    .    .    .    .    .    .    .    .    .    .    .    .    .    .    .    .    .    .    .    .    .    .    .    .    .    .    .    .    .    .    .    .    .  \n",
      " 06   .    .    .    .    .    .    .    .    .    .    .    .    .    .    .    .    .    .    .    .    .    .    .    .    .    .    .    .    .    .    .    .    .    .    .  \n",
      " 07   .    .    .    .    .    .    .    .    .    .    .    .    .    .    .    .    .    .    .    .    .    .    .    .    .    .    .    .    .    .    .    .    .    .    .  \n",
      " 08   .    .    .    .    .    .    .    .    .    .    .    .    .    .    .    .    .    .    .    .    .    .    .    .    .    .    .    .    .    .    .    .    .    .    .  \n",
      " 09   .    .    .    .    .    .    .    .    .    .    .    .    .    .    .    .    .    .    .    .    .    .    .    .    .    .    .    .    .    .    .    .    .    .    .  \n",
      " 10   .    .    .    .    .    .    .    .    .    .    .    .    .    .    .    .    .    .    .    .    .    .    .    .    .    .    .    .    .    .    .    .    .    .    .  \n",
      " 11   .    .    .    .    .    .    .    .    .    .    .    .    .    .    .    .    .    .    .    .    .    #    #    #    #    #    #    #    #    #    #    #    #    #    #  \n",
      " 12   .    .    .    .    .    .    .    .    .    .    .    .    .    .    .    .    .    .    .    .    .    .    .    .    .    .    .    .    .    .    .    .    .    .    .  \n",
      " 13   .    .    .    .    .    .    .    .    .    .    .    .    .    .    .    .    .    .    .    .    .    .    .    .    .    .    .    .    .    .    .    .    .    .    .  \n",
      " 14   .    .    .    .    .    .    .    .    .    .    .    .    .    .    .    .    .    .    .    .    .    .    .    .    .    .    .    -    .    .    .    .    .    .    .  \n",
      " 15   .    .    .    .    .    .    .    .    .    .    .    .    .    .    .    .    .    .    .    .    .    .    .    .    .    .    .    .    .    .    .    .    .    .    .  \n",
      " 16   .    .    .    .    .    .    .    .    .    .    .    .    .    .    .    .    .    .    .    .    .    .    .    .    .    .    .    .    .    .    .    .    .    .    .  \n",
      " 17   .    .    .    .    .    .    .    .    .    .    .    .    .    .    .    .    .    .    .    .    .    .    .    .    .    .    .    .    .    .    .    .    .    .    .  \n",
      " 18   .    .    .    .    .    .    .    .    .    .    .    .    .    .    .    .    .    .    .    .    .    .    .    .    .    .    .    .    .    .    .    .    .    .    .  \n",
      " 19   .    .    .    .    .    .    .    .    .    .    .    .    .    .    .    .    .    .    .    .    .    .    .    .    .    .    .    .    .    .    .    .    .    .    .  \n",
      " 20   .    .    .    .    .    .    .    .    .    .    .    .    .    .    .    .    .    .    .    .    .    .    .    .    .    .    .    .    .    .    .    .    .    .    .  \n",
      " 21   .    .    .    .    .    .    .    .    .    .    .    .    .    .    .    .    .    .    .    .    .    .    .    .    .    .    .    .    .    .    .    .    .    .    .  \n",
      " 22   .    .    .    .    .    .    .    .    .    .    .    .    .    .    .    .    .    .    .    .    .    .    .    .    .    .    .    .    .    .    .    .    .    .    .  \n",
      " 23   .    .    .    .    .    .    .    .    .    .    .    .    .    .    .    .    .    .    .    .    .    .    .    .    .    .    .    .    .    .    .    .    .    .    .  \n",
      " 24   .    .    .    .    .    .    .    .    .    .    .    .    .    .    .    .    .    .    .    .    .    .    .    .    .    .    .    .    .    .    .    .    .    .    .  \n"
     ]
    }
   ],
   "source": [
    "map_cluster(nodes)"
   ]
  },
  {
   "cell_type": "markdown",
   "id": "9db00023-ddd8-4134-b0b0-aa2a3dab6165",
   "metadata": {},
   "source": [
    "Visualizing the map, shows, that the empty space first needs to go to (20, 11) and then to (33,0)"
   ]
  },
  {
   "cell_type": "code",
   "execution_count": 30,
   "id": "afb6a338-4ba0-4e2b-870e-5dc867f6c8f9",
   "metadata": {},
   "outputs": [],
   "source": [
    "def manhattanDistance(a,b):\n",
    "    return sum([abs(xa-xb) for xa,xb in zip(a,b)])\n",
    "\n",
    "def calc_steps(nodes):\n",
    "\n",
    "    # Assuming, that the high load nodes form a horizontal wall from the right:\n",
    "\n",
    "    w_x, w_y = 100, 100\n",
    "    e_x, e_y = 0, 0\n",
    "    max_x = 0\n",
    "    \n",
    "    for n in nodes:\n",
    "        if n[2] > 300:\n",
    "            w_x = min(w_x, n[0])\n",
    "            w_y = min(w_y, n[1])\n",
    "            max_x = max(max_x, n[0])\n",
    "        if n[3] == 0:\n",
    "            e_x, e_y = n[0], n[1]\n",
    "\n",
    "    # now get the node left of the wall edge\n",
    "    w_x -= 1\n",
    "\n",
    "    # and the node left of the target node\n",
    "    max_x -= 1\n",
    "\n",
    "    # Calculate the distance of empty node to the edge of the wall, and then to the \n",
    "    # space left of the target data\n",
    "\n",
    "    steps = manhattanDistance((e_x, e_y), (w_x, w_y)) + manhattanDistance((w_x, w_y), (max_x,0))\n",
    "\n",
    "    # To move the data now one step requires 5 steps, plus 1 to the access node\n",
    "\n",
    "    steps += max_x * 5 + 1\n",
    "\n",
    "    return steps"
   ]
  },
  {
   "cell_type": "code",
   "execution_count": 31,
   "id": "c2a210f1-eab8-4d42-a636-567813cd4fef",
   "metadata": {},
   "outputs": [
    {
     "name": "stdout",
     "output_type": "stream",
     "text": [
      "*******\n",
      "Puzzle1\n",
      "*******\n",
      "\n",
      "\n",
      "Puzzle case\n",
      "===========\n",
      "\n",
      "Number of pairs is: 860\n",
      "\n",
      "*******\n",
      "Puzzle2\n",
      "*******\n",
      "\n",
      "\n",
      "Puzzle case\n",
      "===========\n",
      "\n",
      "Number of steps is: 200\n"
     ]
    }
   ],
   "source": [
    "print('*******\\nPuzzle1\\n*******\\n')\n",
    "\n",
    "print('\\nPuzzle case\\n===========\\n')\n",
    "\n",
    "inp = read_input('input22.txt')\n",
    "\n",
    "res = find_pairs(inp)\n",
    "\n",
    "print(f'Number of pairs is: {res}')\n",
    "\n",
    "assert res == 860\n",
    "\n",
    "print('\\n*******\\nPuzzle2\\n*******\\n')\n",
    "\n",
    "print('\\nPuzzle case\\n===========\\n')\n",
    "\n",
    "res = calc_steps(inp)\n",
    "\n",
    "print(f'Number of steps is: {res}')\n",
    "\n",
    "assert res == 200"
   ]
  },
  {
   "cell_type": "code",
   "execution_count": null,
   "id": "4cd7b719-af52-4819-a04b-d8d4873a786e",
   "metadata": {},
   "outputs": [],
   "source": []
  }
 ],
 "metadata": {
  "kernelspec": {
   "display_name": "Python 3 (ipykernel)",
   "language": "python",
   "name": "python3"
  },
  "language_info": {
   "codemirror_mode": {
    "name": "ipython",
    "version": 3
   },
   "file_extension": ".py",
   "mimetype": "text/x-python",
   "name": "python",
   "nbconvert_exporter": "python",
   "pygments_lexer": "ipython3",
   "version": "3.10.4"
  }
 },
 "nbformat": 4,
 "nbformat_minor": 5
}

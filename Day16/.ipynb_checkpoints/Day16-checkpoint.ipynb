{
 "cells": [
  {
   "cell_type": "code",
   "execution_count": 17,
   "id": "afdd3dd4-82c4-4168-ad64-8f1a00c91992",
   "metadata": {},
   "outputs": [],
   "source": [
    "def calc_data(data, l):\n",
    "    while len(data) < l:\n",
    "        data2 = ''.join(['0' if s=='1' else '1' for s in reversed(data)])\n",
    "        data += '0' + data2\n",
    "\n",
    "    return data[:l]\n",
    "\n",
    "def calc_checksum(data):\n",
    "    chksum = ''\n",
    "    for i in range(0, len(data), 2):\n",
    "        if data[i] == data[i+1]:\n",
    "            chksum += '1'\n",
    "        else:\n",
    "            chksum += '0'\n",
    "    return chksum\n",
    "\n",
    "def calc_odd_checksum(data):\n",
    "    while True:\n",
    "        data = calc_checksum(data)\n",
    "        if len(data) % 2 != 0:\n",
    "            return data\n",
    "\n",
    "def read_input(infile):\n",
    "    with open(infile, 'r') as inf:\n",
    "        return inf.readline().strip()"
   ]
  },
  {
   "cell_type": "code",
   "execution_count": 22,
   "id": "6a4fbf48-5165-46a9-ae00-1b905824edba",
   "metadata": {},
   "outputs": [
    {
     "name": "stdout",
     "output_type": "stream",
     "text": [
      "*******\n",
      "Puzzle1\n",
      "*******\n",
      "\n",
      "Test case\n",
      "=========\n",
      "\n",
      "Checksum is: 01100\n",
      "\n",
      "Puzzle case\n",
      "===========\n",
      "\n",
      "Checksum is: 00100111000101111\n",
      "\n",
      "*******\n",
      "Puzzle2\n",
      "*******\n",
      "\n",
      "\n",
      "Puzzle case\n",
      "===========\n",
      "\n",
      "Checksum is: 11101110011100110\n"
     ]
    }
   ],
   "source": [
    "print('*******\\nPuzzle1\\n*******\\n')\n",
    "\n",
    "print('Test case\\n=========\\n')\n",
    "\n",
    "inp = read_input('input16a.txt')\n",
    "\n",
    "chksum = calc_odd_checksum(calc_data(inp, 20))\n",
    "\n",
    "print(f'Checksum is: {chksum}')\n",
    "\n",
    "assert chksum == '01100'\n",
    "\n",
    "print('\\nPuzzle case\\n===========\\n')\n",
    "\n",
    "inp = read_input('input16.txt')\n",
    "\n",
    "chksum = calc_odd_checksum(calc_data(inp, 272))\n",
    "\n",
    "print(f'Checksum is: {chksum}')\n",
    "\n",
    "assert chksum == '00100111000101111'\n",
    "\n",
    "print('\\n*******\\nPuzzle2\\n*******\\n')\n",
    "\n",
    "print('\\nPuzzle case\\n===========\\n')\n",
    "\n",
    "inp = read_input('input16.txt')\n",
    "\n",
    "chksum = calc_odd_checksum(calc_data(inp, 35651584))\n",
    "\n",
    "print(f'Checksum is: {chksum}')\n",
    "\n",
    "assert chksum == '11101110011100110'\n"
   ]
  },
  {
   "cell_type": "code",
   "execution_count": null,
   "id": "69ee83a4-d316-499e-8292-a9a820074d4b",
   "metadata": {},
   "outputs": [],
   "source": []
  }
 ],
 "metadata": {
  "kernelspec": {
   "display_name": "Python 3 (ipykernel)",
   "language": "python",
   "name": "python3"
  },
  "language_info": {
   "codemirror_mode": {
    "name": "ipython",
    "version": 3
   },
   "file_extension": ".py",
   "mimetype": "text/x-python",
   "name": "python",
   "nbconvert_exporter": "python",
   "pygments_lexer": "ipython3",
   "version": "3.10.4"
  }
 },
 "nbformat": 4,
 "nbformat_minor": 5
}

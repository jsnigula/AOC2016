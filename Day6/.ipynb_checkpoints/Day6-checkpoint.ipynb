{
 "cells": [
  {
   "cell_type": "code",
   "execution_count": 5,
   "id": "d6dfd8c5",
   "metadata": {},
   "outputs": [
    {
     "name": "stdout",
     "output_type": "stream",
     "text": [
      "The error corrected message is usccerug\n",
      "The modifie error corrected message is cnvvtafc\n"
     ]
    }
   ],
   "source": [
    "data = []\n",
    "for i in range(8):\n",
    "    data.append('')\n",
    "\n",
    "with open('input6.txt', 'r') as inf:\n",
    "    for l in inf:\n",
    "        for i, c in enumerate(l.strip()):\n",
    "            data[i] += c\n",
    "        \n",
    "message = ''\n",
    "mod_message = ''\n",
    "\n",
    "for d in data:\n",
    "    maxcount = 0\n",
    "    mincount = 1e9\n",
    "    maxchar = ''\n",
    "    minchar = ''\n",
    "    for i in range(97, 123):\n",
    "        c = chr(i)\n",
    "        n = d.count(c)\n",
    "        if n > maxcount:\n",
    "            maxcount = n\n",
    "            maxchar = c\n",
    "        if c in d and n < mincount:\n",
    "            mincount = n\n",
    "            minchar = c\n",
    "        \n",
    "    message += maxchar\n",
    "    mod_message += minchar\n",
    "    \n",
    "print(f'The error corrected message is {message}')\n",
    "print(f'The modifie error corrected message is {mod_message}')"
   ]
  },
  {
   "cell_type": "code",
   "execution_count": null,
   "id": "ebdb946f",
   "metadata": {},
   "outputs": [],
   "source": []
  }
 ],
 "metadata": {
  "kernelspec": {
   "display_name": "Python 3 (ipykernel)",
   "language": "python",
   "name": "python3"
  },
  "language_info": {
   "codemirror_mode": {
    "name": "ipython",
    "version": 3
   },
   "file_extension": ".py",
   "mimetype": "text/x-python",
   "name": "python",
   "nbconvert_exporter": "python",
   "pygments_lexer": "ipython3",
   "version": "3.10.4"
  }
 },
 "nbformat": 4,
 "nbformat_minor": 5
}

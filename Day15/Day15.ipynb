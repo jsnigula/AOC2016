{
 "cells": [
  {
   "cell_type": "code",
   "execution_count": 21,
   "id": "83c1f717-3e4a-4acd-bd82-95cded3aa9fd",
   "metadata": {},
   "outputs": [],
   "source": [
    "def read_input(infile):\n",
    "    discs = []\n",
    "    with open(infile, 'r') as inf:\n",
    "        for line in inf.readlines():\n",
    "            vals = line.strip().split()\n",
    "            n = int(vals[3])\n",
    "            p = int(vals[11][:-1])\n",
    "            discs.append((n,p))\n",
    "    return discs\n",
    "\n",
    "def find_time(discs):\n",
    "    i = 1;\n",
    "    while True:\n",
    "\n",
    "        n_matched = 0\n",
    "        for n, (np, p) in enumerate(discs):\n",
    "            if (i+n+1 - (np - p)) % np != 0:\n",
    "                break\n",
    "            n_matched += 1\n",
    "\n",
    "        if n_matched == len(discs):\n",
    "            return i\n",
    "\n",
    "        i+=1\n"
   ]
  },
  {
   "cell_type": "code",
   "execution_count": 24,
   "id": "c01bf379-6ed0-42f3-8197-511922334876",
   "metadata": {},
   "outputs": [
    {
     "name": "stdout",
     "output_type": "stream",
     "text": [
      "*******\n",
      "Puzzle1\n",
      "*******\n",
      "\n",
      "Test case\n",
      "=========\n",
      "\n",
      "Start time is: 5\n",
      "\n",
      "Puzzle case\n",
      "===========\n",
      "\n",
      "Start time is: 376777\n",
      "\n",
      "*******\n",
      "Puzzle2\n",
      "*******\n",
      "\n",
      "\n",
      "Puzzle case\n",
      "===========\n",
      "\n",
      "Start time is: 3903937\n"
     ]
    }
   ],
   "source": [
    "print('*******\\nPuzzle1\\n*******\\n')\n",
    "\n",
    "print('Test case\\n=========\\n')\n",
    "\n",
    "discs = read_input('input15a.txt')\n",
    "\n",
    "t = find_time(discs)\n",
    "\n",
    "print(f'Start time is: {t}')\n",
    "\n",
    "assert t == 5\n",
    "\n",
    "print('\\nPuzzle case\\n===========\\n')\n",
    "\n",
    "discs = read_input('input15.txt')\n",
    "\n",
    "t = find_time(discs)\n",
    "\n",
    "print(f'Start time is: {t}')\n",
    "\n",
    "assert t == 376777\n",
    "\n",
    "print('\\n*******\\nPuzzle2\\n*******\\n')\n",
    "\n",
    "print('\\nPuzzle case\\n===========\\n')\n",
    "\n",
    "discs = read_input('input15.txt')\n",
    "discs.append((11, 0))\n",
    "\n",
    "t = find_time(discs)\n",
    "\n",
    "print(f'Start time is: {t}')\n",
    "\n",
    "assert t == 3903937"
   ]
  },
  {
   "cell_type": "code",
   "execution_count": null,
   "id": "52e160f4-6a0b-42e0-a930-43afff77ccb4",
   "metadata": {},
   "outputs": [],
   "source": []
  }
 ],
 "metadata": {
  "kernelspec": {
   "display_name": "Python 3 (ipykernel)",
   "language": "python",
   "name": "python3"
  },
  "language_info": {
   "codemirror_mode": {
    "name": "ipython",
    "version": 3
   },
   "file_extension": ".py",
   "mimetype": "text/x-python",
   "name": "python",
   "nbconvert_exporter": "python",
   "pygments_lexer": "ipython3",
   "version": "3.10.4"
  }
 },
 "nbformat": 4,
 "nbformat_minor": 5
}

{
 "cells": [
  {
   "cell_type": "code",
   "execution_count": 1,
   "id": "fb6abed7",
   "metadata": {},
   "outputs": [],
   "source": [
    "import numpy as np"
   ]
  },
  {
   "cell_type": "code",
   "execution_count": 34,
   "id": "0c6d9fa2",
   "metadata": {},
   "outputs": [],
   "source": [
    "def print_display(d):\n",
    "\n",
    "    for y in range(d.shape[0]):\n",
    "        line = ''\n",
    "        for x in range(d.shape[1]):\n",
    "            if d[y,x] == 1:\n",
    "                line += '#'\n",
    "            else:\n",
    "                line += '.'\n",
    "        print(line)\n",
    "    print('\\n')\n",
    "    \n",
    "def print_letters(d):\n",
    "    for i in range(10):\n",
    "        print(d[0:6, i*6:(i+1)*6])\n",
    "        print_display(d[0:6, i*6:(i+1)*6])"
   ]
  },
  {
   "cell_type": "code",
   "execution_count": 35,
   "id": "5fe6bf9a",
   "metadata": {},
   "outputs": [
    {
     "name": "stdout",
     "output_type": "stream",
     "text": [
      "115 pixels are lit\n",
      "####.####.####.#...##..#.####.###..####..###...##.\n",
      "#....#....#....#...##.#..#....#..#.#......#.....#.\n",
      "###..###..###...#.#.##...###..#..#.###....#.....#.\n",
      "#....#....#......#..#.#..#....###..#......#.....#.\n",
      "#....#....#......#..#.#..#....#.#..#......#..#..#.\n",
      "####.#....####...#..#..#.#....#..#.#.....###..##..\n",
      "\n",
      "\n"
     ]
    }
   ],
   "source": [
    "with open('input8.txt', 'r') as inf:\n",
    "    data = [l.strip() for l in inf]\n",
    "    \n",
    "# display = np.zeros((3, 7), dtype=int)\n",
    "display = np.zeros((6, 50), dtype=int)\n",
    "\n",
    "for d in data:\n",
    "    v = d.split()\n",
    "    if d.startswith('rect'):\n",
    "        x, y = (int(i) for i in v[1].split('x'))\n",
    "        \n",
    "        display[0:y,0:x] = 1\n",
    "        # print_display(display)\n",
    "    else:  # rotate\n",
    "        if v[1] == 'row':\n",
    "            y = int(v[2].split('=')[1])\n",
    "            shift = int(v[4])\n",
    "            l = display.shape[1]\n",
    "            newrow = np.zeros(l, dtype=int)\n",
    "            newrow[shift:] = display[y,0:l-shift]\n",
    "            newrow[0:shift] = display[y,l-shift:]\n",
    "            display[y,:] = newrow\n",
    "            # print_display(display)\n",
    "        else:\n",
    "            x = int(v[2].split('=')[1])\n",
    "            shift = int(v[4])\n",
    "            l = display.shape[0]\n",
    "            newcol = np.zeros(l, dtype=int)\n",
    "            newcol[shift:] = display[0:l-shift,x]\n",
    "            newcol[0:shift] = display[l-shift:,x]\n",
    "            display[:,x] = newcol\n",
    "            # print_display(display)\n",
    "            \n",
    "print(f'{np.sum(display)} pixels are lit')\n",
    "\n",
    "print_display(display)\n",
    "# print_letters(display)"
   ]
  },
  {
   "cell_type": "code",
   "execution_count": null,
   "id": "714ab397",
   "metadata": {},
   "outputs": [],
   "source": []
  },
  {
   "cell_type": "code",
   "execution_count": null,
   "id": "af682f5b",
   "metadata": {},
   "outputs": [],
   "source": []
  }
 ],
 "metadata": {
  "kernelspec": {
   "display_name": "Python 3 (ipykernel)",
   "language": "python",
   "name": "python3"
  },
  "language_info": {
   "codemirror_mode": {
    "name": "ipython",
    "version": 3
   },
   "file_extension": ".py",
   "mimetype": "text/x-python",
   "name": "python",
   "nbconvert_exporter": "python",
   "pygments_lexer": "ipython3",
   "version": "3.10.4"
  }
 },
 "nbformat": 4,
 "nbformat_minor": 5
}

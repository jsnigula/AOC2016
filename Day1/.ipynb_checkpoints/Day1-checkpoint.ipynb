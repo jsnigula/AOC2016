{
 "cells": [
  {
   "cell_type": "code",
   "execution_count": 28,
   "id": "81c11b5f",
   "metadata": {},
   "outputs": [
    {
     "name": "stdout",
     "output_type": "stream",
     "text": [
      "Dist is 298 blocks\n",
      "Dist to first place visited twice is 158\n"
     ]
    }
   ],
   "source": [
    "import numpy as np\n",
    "\n",
    "with open('input1.txt', 'r') as inf:\n",
    "    moves = [v.split(',')[0] for v in inf.readline().split()]\n",
    "    \n",
    "directs = [(1, 0), (0,1), (-1,0), (0,-1)]\n",
    "d = 0\n",
    "\n",
    "pos = np.array([0, 0])\n",
    "\n",
    "visited = set()\n",
    "visited.add((0,0))\n",
    "\n",
    "visited_twice = (0,0)\n",
    "found = False\n",
    "\n",
    "for m in moves:\n",
    "    t = m[0]\n",
    "    dist = int(m[1:])\n",
    "    \n",
    "    if t == 'R':\n",
    "        d += 1\n",
    "    else:\n",
    "        d -= 1\n",
    "        \n",
    "    if d > 3:\n",
    "        d = 0\n",
    "    elif d < 0:\n",
    "        d = 3\n",
    "            \n",
    "    for p in range(dist):\n",
    "        pos += np.array(directs[d])\n",
    "        if not found:\n",
    "            pt = tuple(pos.tolist())\n",
    "            if pt in visited:\n",
    "                visited_twice = pt\n",
    "                found = True\n",
    "            visited.add(pt)\n",
    "        \n",
    "    # pos += np.array(directs[d]) * dist\n",
    "    \n",
    "print(f'Dist is {abs(pos[0]) + abs(pos[1])} blocks')\n",
    "\n",
    "print(f'Dist to first place visited twice is {abs(visited_twice[0]) + abs(visited_twice[1])}')\n"
   ]
  },
  {
   "cell_type": "code",
   "execution_count": 6,
   "id": "6bd4002b",
   "metadata": {},
   "outputs": [
    {
     "data": {
      "text/plain": [
       "array([4, 6])"
      ]
     },
     "execution_count": 6,
     "metadata": {},
     "output_type": "execute_result"
    }
   ],
   "source": [
    "np.array((1,2)) + (3,4)"
   ]
  },
  {
   "cell_type": "code",
   "execution_count": null,
   "id": "0e01c820",
   "metadata": {},
   "outputs": [],
   "source": []
  }
 ],
 "metadata": {
  "kernelspec": {
   "display_name": "Python 3 (ipykernel)",
   "language": "python",
   "name": "python3"
  },
  "language_info": {
   "codemirror_mode": {
    "name": "ipython",
    "version": 3
   },
   "file_extension": ".py",
   "mimetype": "text/x-python",
   "name": "python",
   "nbconvert_exporter": "python",
   "pygments_lexer": "ipython3",
   "version": "3.10.4"
  }
 },
 "nbformat": 4,
 "nbformat_minor": 5
}

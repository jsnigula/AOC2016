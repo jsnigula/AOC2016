{
 "cells": [
  {
   "cell_type": "code",
   "execution_count": 1,
   "id": "0c2e06c8",
   "metadata": {},
   "outputs": [],
   "source": [
    "import numpy as np"
   ]
  },
  {
   "cell_type": "code",
   "execution_count": 24,
   "id": "a0032f31",
   "metadata": {},
   "outputs": [
    {
     "name": "stdout",
     "output_type": "stream",
     "text": [
      "982 triangles are possible\n",
      "\n",
      "Part 2\n",
      "\n",
      "1826 vertical triangles are possible\n"
     ]
    }
   ],
   "source": [
    "data = []\n",
    "with open('input3.txt', 'r') as inf:\n",
    "    for l in inf:\n",
    "        ldata = [int(v) for v in l.split()]\n",
    "        data.append(ldata)\n",
    "        \n",
    "ndata = np.array(data)\n",
    "\n",
    "r = len(np.where(((ndata[:,0] + ndata[:,1]) > ndata[:,2]) & \n",
    "                 ((ndata[:,1] + ndata[:,2]) > ndata[:,0]) & \n",
    "                 ((ndata[:,0] + ndata[:,2]) > ndata[:,1]))[0])\n",
    "\n",
    "print(f'{r} triangles are possible')\n",
    "\n",
    "print('\\nPart 2\\n')\n",
    "\n",
    "n_possible = 0\n",
    "for i in range(0, ndata.shape[0], 3):\n",
    "    n_possible += len(np.where(((ndata[i,:] + ndata[i+1,:]) > ndata[i+2,:]) &\n",
    "                            ((ndata[i+1,:] + ndata[i+2,:]) > ndata[i,:]) &\n",
    "                             ((ndata[i,:] + ndata[i+2,:]) > ndata[i+1,:]))[0])\n",
    "    \n",
    "print(f'{n_possible} vertical triangles are possible')\n",
    "    "
   ]
  },
  {
   "cell_type": "code",
   "execution_count": null,
   "id": "09c998b5",
   "metadata": {},
   "outputs": [],
   "source": []
  }
 ],
 "metadata": {
  "kernelspec": {
   "display_name": "Python 3 (ipykernel)",
   "language": "python",
   "name": "python3"
  },
  "language_info": {
   "codemirror_mode": {
    "name": "ipython",
    "version": 3
   },
   "file_extension": ".py",
   "mimetype": "text/x-python",
   "name": "python",
   "nbconvert_exporter": "python",
   "pygments_lexer": "ipython3",
   "version": "3.10.4"
  }
 },
 "nbformat": 4,
 "nbformat_minor": 5
}

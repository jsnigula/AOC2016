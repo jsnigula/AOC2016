{
 "cells": [
  {
   "cell_type": "code",
   "execution_count": 1,
   "id": "9de4f75f",
   "metadata": {},
   "outputs": [],
   "source": [
    "from hashlib import md5"
   ]
  },
  {
   "cell_type": "code",
   "execution_count": 10,
   "id": "01398628",
   "metadata": {},
   "outputs": [
    {
     "name": "stdout",
     "output_type": "stream",
     "text": [
      "1\n",
      "1a\n",
      "1a3\n",
      "1a30\n",
      "1a309\n",
      "1a3099\n",
      "1a3099a\n",
      "1a3099aa\n",
      "Password is 1a3099aa\n"
     ]
    }
   ],
   "source": [
    "key = 'uqwqemis'\n",
    "# key = 'abc'\n",
    "\n",
    "i = 0\n",
    "\n",
    "password = ''\n",
    "\n",
    "for _ in range(8):\n",
    "    while True:\n",
    "        if md5((key+str(i)).encode()).hexdigest().startswith('00000'):\n",
    "            password += md5((key+str(i)).encode()).hexdigest()[5]\n",
    "            print(password)\n",
    "            i+=1\n",
    "            break\n",
    "        i+=1\n",
    "        \n",
    "print(f'Password is {password}')"
   ]
  },
  {
   "cell_type": "code",
   "execution_count": 19,
   "id": "f1560ea3",
   "metadata": {},
   "outputs": [
    {
     "name": "stdout",
     "output_type": "stream",
     "text": [
      "['', '9', '', '', '', '', '', '']\n",
      "['', '9', '', '1', '', '', '', '']\n",
      "['6', '9', '', '1', '', '', '', '']\n",
      "['6', '9', '4', '1', '', '', '', '']\n",
      "['6', '9', '4', '1', '', '0', '', '']\n",
      "['6', '9', '4', '1', '9', '0', '', '']\n",
      "['6', '9', '4', '1', '9', '0', 'c', '']\n",
      "['6', '9', '4', '1', '9', '0', 'c', 'd']\n",
      "Second password is 694190cd\n"
     ]
    }
   ],
   "source": [
    "key = 'uqwqemis'\n",
    "# key = 'abc'\n",
    "\n",
    "i = 0\n",
    "\n",
    "passcode = ['', '', '', '', '', '', '', '']\n",
    "password = ''\n",
    "\n",
    "for _ in range(8):\n",
    "    while True:\n",
    "        hash = md5((key+str(i)).encode()).hexdigest()\n",
    "        if hash.startswith('00000'):\n",
    "            try:\n",
    "                if passcode[int(hash[5])] == '':\n",
    "                    passcode[int(hash[5])] = hash[6]\n",
    "                    print(passcode)\n",
    "                    i += 1\n",
    "                    break\n",
    "            except:\n",
    "                pass\n",
    "            i+=1\n",
    "        i+=1\n",
    "        \n",
    "print(f'Second password is {\"\".join(passcode)}')"
   ]
  },
  {
   "cell_type": "code",
   "execution_count": null,
   "id": "13aeb061",
   "metadata": {},
   "outputs": [],
   "source": []
  }
 ],
 "metadata": {
  "kernelspec": {
   "display_name": "Python 3 (ipykernel)",
   "language": "python",
   "name": "python3"
  },
  "language_info": {
   "codemirror_mode": {
    "name": "ipython",
    "version": 3
   },
   "file_extension": ".py",
   "mimetype": "text/x-python",
   "name": "python",
   "nbconvert_exporter": "python",
   "pygments_lexer": "ipython3",
   "version": "3.10.4"
  }
 },
 "nbformat": 4,
 "nbformat_minor": 5
}

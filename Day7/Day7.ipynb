{
 "cells": [
  {
   "cell_type": "code",
   "execution_count": 56,
   "id": "f9ed0898",
   "metadata": {},
   "outputs": [],
   "source": [
    "def check_tls(s):\n",
    "    inhypernet = False\n",
    "    \n",
    "    support = False\n",
    "    \n",
    "    for i in range(0, len(s)-3):\n",
    "        # print(s[i])\n",
    "        if s[i] == '[':\n",
    "            inhypernet = True\n",
    "            continue\n",
    "        if s[i] == ']':\n",
    "            inhypernet = False\n",
    "            continue\n",
    "        # print(s[i:i+2],s[i+3:i+1:-1])\n",
    "        if s[i:i+2] == s[i+3:i+1:-1] and s[i] != s[i+1]:\n",
    "            if inhypernet:\n",
    "                return False\n",
    "            else:\n",
    "                support = True\n",
    "    return support\n",
    "\n",
    "def check_ssl(s):\n",
    "    inhypernet = False\n",
    "    \n",
    "    aba_s = []\n",
    "    bab_s = []\n",
    "    \n",
    "    for i in range(0, len(s)-2):\n",
    "        if s[i] == '[':\n",
    "            inhypernet = True\n",
    "            continue\n",
    "        if s[i] == ']':\n",
    "            inhypernet = False\n",
    "            continue\n",
    "        if s[i] == s[i+2] and s[i] != s[i+1]:\n",
    "            seq = s[i:i+3]\n",
    "            if inhypernet:\n",
    "                if seq in aba_s:\n",
    "                    return True\n",
    "                bab_s.append(s[i+1] + s[i] + s[i+1])\n",
    "            else:\n",
    "                if seq in bab_s:\n",
    "                    return True\n",
    "                aba_s.append(s[i+1] + s[i] + s[i+1])\n",
    "\n",
    "    return False\n",
    "    "
   ]
  },
  {
   "cell_type": "code",
   "execution_count": 57,
   "id": "0fb96e79",
   "metadata": {},
   "outputs": [
    {
     "data": {
      "text/plain": [
       "True"
      ]
     },
     "execution_count": 57,
     "metadata": {},
     "output_type": "execute_result"
    }
   ],
   "source": [
    "s1 = 'abba[mnop]qrst'\n",
    "s2 = 'abcd[bddb]xyyx'\n",
    "s3 = 'aaaa[qwer]tyui'\n",
    "s4 = 'ioxxoj[asdfgh]zxcvbn'\n",
    "s5 = 'aba[bab]xyz'\n",
    "s6 = 'xyx[xyx]xyx'\n",
    "s7 = 'aaa[kek]eke'\n",
    "s8 = 'zazbz[bzb]cdb'\n",
    "\n",
    "# check_tls(s4)\n",
    "\n",
    "check_ssl(s8)"
   ]
  },
  {
   "cell_type": "code",
   "execution_count": 59,
   "id": "79f13d43",
   "metadata": {},
   "outputs": [
    {
     "name": "stdout",
     "output_type": "stream",
     "text": [
      "118 IPs support TLS\n",
      "260 IPs support SSL\n"
     ]
    }
   ],
   "source": [
    "with open('input7.txt', 'r') as inf:\n",
    "    data = [l.strip() for l in inf]\n",
    "    \n",
    "n_support_tls = 0\n",
    "n_support_ssl = 0\n",
    "\n",
    "for ip in data:\n",
    "    if check_tls(ip):\n",
    "        n_support_tls += 1\n",
    "    if check_ssl(ip):\n",
    "        n_support_ssl += 1\n",
    "        \n",
    "print(f'{n_support_tls} IPs support TLS')\n",
    "print(f'{n_support_ssl} IPs support SSL')"
   ]
  },
  {
   "cell_type": "code",
   "execution_count": null,
   "id": "062f02ed",
   "metadata": {},
   "outputs": [],
   "source": []
  }
 ],
 "metadata": {
  "kernelspec": {
   "display_name": "Python 3 (ipykernel)",
   "language": "python",
   "name": "python3"
  },
  "language_info": {
   "codemirror_mode": {
    "name": "ipython",
    "version": 3
   },
   "file_extension": ".py",
   "mimetype": "text/x-python",
   "name": "python",
   "nbconvert_exporter": "python",
   "pygments_lexer": "ipython3",
   "version": "3.10.4"
  }
 },
 "nbformat": 4,
 "nbformat_minor": 5
}

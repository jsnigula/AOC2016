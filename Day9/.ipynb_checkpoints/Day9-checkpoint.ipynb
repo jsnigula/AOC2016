{
 "cells": [
  {
   "cell_type": "code",
   "execution_count": 33,
   "id": "949ca525",
   "metadata": {},
   "outputs": [],
   "source": [
    "def decode(s):\n",
    "    \n",
    "    i = 0\n",
    "    \n",
    "    output = ''\n",
    "    while i <len(s):\n",
    "        # print(s[i])\n",
    "        if s[i] == '(':\n",
    "            marker = ''\n",
    "            i+=1\n",
    "            while s[i] != ')':\n",
    "                marker += s[i]\n",
    "                i += 1\n",
    "            i+=1\n",
    "            # print(marker)\n",
    "            l, r = (int(v) for v in marker.split('x'))\n",
    "            for _ in range(r):\n",
    "                output += s[i:i+l]\n",
    "            i += l\n",
    "        else:\n",
    "            output += s[i]\n",
    "            i+=1\n",
    "            \n",
    "    return output\n",
    "        \n",
    "def find_decoded_length(s):\n",
    "\n",
    "    i = 0\n",
    "    \n",
    "    length = 0\n",
    "    while i <len(s):\n",
    "        if s[i] == '(':\n",
    "            marker = ''\n",
    "            i+=1\n",
    "            while s[i] != ')':\n",
    "                marker += s[i]\n",
    "                i += 1\n",
    "            i+=1\n",
    "            # print(marker)\n",
    "            l, r = (int(v) for v in marker.split('x'))\n",
    "            length += r* find_decoded_length(s[i:i+l])\n",
    "            i += l\n",
    "        else:\n",
    "            length += 1\n",
    "            i+=1\n",
    "            \n",
    "    return length\n",
    "    "
   ]
  },
  {
   "cell_type": "code",
   "execution_count": 36,
   "id": "4321210e",
   "metadata": {},
   "outputs": [
    {
     "name": "stdout",
     "output_type": "stream",
     "text": [
      "Length of decoded file is 152851\n",
      "\n",
      "Part 2\n",
      "\n",
      "Length of fully decoded file is 11797310782\n"
     ]
    }
   ],
   "source": [
    "assert decode('ADVENT') == 'ADVENT'\n",
    "assert decode('A(1x5)BC') == 'ABBBBBC'\n",
    "assert decode('(3x3)XYZ') == 'XYZXYZXYZ'\n",
    "assert decode('A(2x2)BCD(2x2)EFG') == 'ABCBCDEFEFG'\n",
    "assert decode('(6x1)(1x3)A') == '(1x3)A'\n",
    "assert decode('X(8x2)(3x3)ABCY') == 'X(3x3)ABC(3x3)ABCY'\n",
    "\n",
    "with open('input9.txt', 'r') as inf:\n",
    "    data = inf.readline().strip()\n",
    "    \n",
    "print(f'Length of decoded file is {len(decode(data))}')\n",
    "\n",
    "print('\\nPart 2\\n')\n",
    "\n",
    "assert find_decoded_length('(3x3)XYZ') == len('XYZXYZXYZ')\n",
    "assert find_decoded_length('X(8x2)(3x3)ABCY') == len('XABCABCABCABCABCABCY')\n",
    "assert find_decoded_length('(27x12)(20x12)(13x14)(7x10)(1x12)A') == 241920\n",
    "assert find_decoded_length('(25x3)(3x3)ABC(2x3)XY(5x2)PQRSTX(18x9)(3x2)TWO(5x7)SEVEN') == 445\n",
    "\n",
    "print(f'Length of fully decoded file is {find_decoded_length(data)}')"
   ]
  },
  {
   "cell_type": "code",
   "execution_count": null,
   "id": "658b9355",
   "metadata": {},
   "outputs": [],
   "source": []
  }
 ],
 "metadata": {
  "kernelspec": {
   "display_name": "Python 3 (ipykernel)",
   "language": "python",
   "name": "python3"
  },
  "language_info": {
   "codemirror_mode": {
    "name": "ipython",
    "version": 3
   },
   "file_extension": ".py",
   "mimetype": "text/x-python",
   "name": "python",
   "nbconvert_exporter": "python",
   "pygments_lexer": "ipython3",
   "version": "3.10.4"
  }
 },
 "nbformat": 4,
 "nbformat_minor": 5
}

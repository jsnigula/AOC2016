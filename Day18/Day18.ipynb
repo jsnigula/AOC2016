{
 "cells": [
  {
   "cell_type": "code",
   "execution_count": 1,
   "id": "663c5426-6ae4-41cc-a7e4-3a1f7e663dd9",
   "metadata": {},
   "outputs": [],
   "source": [
    "import numpy as np"
   ]
  },
  {
   "cell_type": "code",
   "execution_count": 53,
   "id": "73203a00-796e-4334-b92b-8311132c11cd",
   "metadata": {},
   "outputs": [],
   "source": [
    "def read_input(infile):\n",
    "    with open(infile, 'r') as inf:\n",
    "        l = inf.readline().strip()\n",
    "        return np.array([1 if c == '.' else 0 for c in l], dtype=int)\n",
    "\n",
    "def prettyprint(map):\n",
    "    for r in range(map.shape[0]):\n",
    "        s = ''\n",
    "        for c in range(1, map.shape[1]-1):\n",
    "            if map[r, c]:\n",
    "                s += '. '\n",
    "            else:\n",
    "                s += '^ '\n",
    "        print(s)\n",
    "\n",
    "def get_row(prow):\n",
    "    nrow = np.ones(len(prow), dtype=int)\n",
    "\n",
    "    for c in range(1, len(prow)-1):\n",
    "        nsave = np.sum(prow[c-1:c+2])\n",
    "        if nsave == 1: # Two traps\n",
    "            if prow[c-1] or prow[c+1]:\n",
    "                nrow[c] = 0\n",
    "        if nsave == 2: # One traps\n",
    "            if prow[c-1] == 0 or prow[c+1] == 0:\n",
    "                nrow[c] = 0\n",
    "\n",
    "    return nrow\n",
    "    \n",
    "def build_map(row, nrows):\n",
    "\n",
    "    cols = len(row)\n",
    "    map = np.ones((nrows, cols+2), dtype=int)\n",
    "    map[0, 1:-1] = row\n",
    "\n",
    "    for r in range(1, nrows):\n",
    "        map[r, :] = get_row(map[r-1,:])\n",
    "\n",
    "    return map"
   ]
  },
  {
   "cell_type": "code",
   "execution_count": 54,
   "id": "ef1b1e53-8e39-4b42-aa84-0c8315ee2727",
   "metadata": {},
   "outputs": [
    {
     "name": "stdout",
     "output_type": "stream",
     "text": [
      "*******\n",
      "Puzzle1\n",
      "*******\n",
      "\n",
      "Test case\n",
      "=========\n",
      "\n",
      "There are 38 tiles\n",
      "\n",
      "Puzzle case\n",
      "===========\n",
      "\n",
      "There are 1974 tiles\n",
      "\n",
      "*******\n",
      "Puzzle2\n",
      "*******\n",
      "\n",
      "There are 19991126 tiles\n"
     ]
    }
   ],
   "source": [
    "print('*******\\nPuzzle1\\n*******\\n')\n",
    "\n",
    "print('Test case\\n=========\\n')\n",
    "\n",
    "inp = read_input('input18a.txt')\n",
    "\n",
    "m = build_map(inp, 10)\n",
    "\n",
    "n_save = np.sum(m[:,1:-1])\n",
    "\n",
    "print(f'There are {n_save} tiles')\n",
    "\n",
    "assert n_save == 38\n",
    "\n",
    "print('\\nPuzzle case\\n===========\\n')\n",
    "\n",
    "inp = read_input('input18.txt')\n",
    "\n",
    "m = build_map(inp, 40)\n",
    "\n",
    "n_save = np.sum(m[:,1:-1])\n",
    "\n",
    "print(f'There are {n_save} tiles')\n",
    "\n",
    "assert n_save == 1974\n",
    "\n",
    "print('\\n*******\\nPuzzle2\\n*******\\n')\n",
    "\n",
    "inp = read_input('input18.txt')\n",
    "\n",
    "m = build_map(inp, 400000)\n",
    "\n",
    "n_save = np.sum(m[:,1:-1])\n",
    "\n",
    "print(f'There are {n_save} tiles')\n",
    "\n",
    "assert n_save == 19991126"
   ]
  },
  {
   "cell_type": "code",
   "execution_count": null,
   "id": "d05bf035-89e1-4fd9-8ee6-a06586f71326",
   "metadata": {},
   "outputs": [],
   "source": []
  }
 ],
 "metadata": {
  "kernelspec": {
   "display_name": "Python 3 (ipykernel)",
   "language": "python",
   "name": "python3"
  },
  "language_info": {
   "codemirror_mode": {
    "name": "ipython",
    "version": 3
   },
   "file_extension": ".py",
   "mimetype": "text/x-python",
   "name": "python",
   "nbconvert_exporter": "python",
   "pygments_lexer": "ipython3",
   "version": "3.10.4"
  }
 },
 "nbformat": 4,
 "nbformat_minor": 5
}

{
 "cells": [
  {
   "cell_type": "code",
   "execution_count": 9,
   "id": "dee9a5c6-69f2-4365-a039-1d8cae36e0e0",
   "metadata": {},
   "outputs": [],
   "source": [
    "from hashlib import md5\n",
    "import re"
   ]
  },
  {
   "cell_type": "code",
   "execution_count": 153,
   "id": "a4e428a8-dc2f-464d-9368-e4d7cf52a80f",
   "metadata": {},
   "outputs": [],
   "source": [
    "def calc_hash(salt, i, stretch=0):\n",
    "    h = md5(f'{salt}{i}'.encode()).hexdigest()\n",
    "    if stretch == 0:\n",
    "        return h\n",
    "\n",
    "    for i in range(stretch):\n",
    "        h = md5(h.encode()).hexdigest()\n",
    "    return h"
   ]
  },
  {
   "cell_type": "code",
   "execution_count": 154,
   "id": "9db922f4-67f7-4f15-bc06-cd6ba65a1f3b",
   "metadata": {},
   "outputs": [],
   "source": [
    "def read_input(infile):\n",
    "    with open(infile, 'r') as inf:\n",
    "        return inf.readline().strip()"
   ]
  },
  {
   "cell_type": "code",
   "execution_count": 155,
   "id": "e54dc7d0-af5b-4320-b96e-f4e126f7b518",
   "metadata": {},
   "outputs": [],
   "source": [
    "def find_n_keys(salt, stretch = 0):\n",
    "    i = -1\n",
    "    keys = []\n",
    "    candidates = {}\n",
    "    while True:\n",
    "        i += 1\n",
    "        h = calc_hash(salt, i, stretch)\n",
    "        quintets = re.findall(r'(\\w)\\1{4}', h)\n",
    "        found_keys = False\n",
    "        if len(quintets) != 0:\n",
    "            if quintets[0] in candidates:\n",
    "                to_delete = []\n",
    "                for c in candidates[quintets[0]]:\n",
    "                    if i <= c:\n",
    "                        keys.append(c-1000)\n",
    "                        if len(keys)==64:\n",
    "                            return c-1000\n",
    "                        found_keys = True\n",
    "                        to_delete.append(c)\n",
    "                    if i > c:\n",
    "                        to_delete.append(c)\n",
    "                for c in to_delete:\n",
    "                    candidates[quintets[0]].remove(c)\n",
    "        # if found_keys:\n",
    "        #     continue\n",
    "        triplets = re.findall(r'(\\w)\\1{2}', h)\n",
    "        # too_long = re.findall(r'(\\w)\\1{3}', h)\n",
    "        if len(triplets) == 0:\n",
    "            continue\n",
    "        # if triplets[0] not in too_long:\n",
    "        if triplets[0] not in candidates:\n",
    "            candidates[triplets[0]] = []\n",
    "        candidates[triplets[0]].append(i+1000)\n"
   ]
  },
  {
   "cell_type": "code",
   "execution_count": 157,
   "id": "cf896983-c553-443b-a102-d453d0ea9a15",
   "metadata": {},
   "outputs": [
    {
     "name": "stdout",
     "output_type": "stream",
     "text": [
      "*******\n",
      "Puzzle1\n",
      "*******\n",
      "\n",
      "Test case\n",
      "=========\n",
      "\n",
      "Final index is: 22728\n",
      "\n",
      "Puzzle case\n",
      "===========\n",
      "\n",
      "Final index is: 23769\n",
      "*******\n",
      "Puzzle2\n",
      "*******\n",
      "\n",
      "Test case\n",
      "=========\n",
      "\n",
      "Final index is: 22551\n",
      "\n",
      "Puzzle case\n",
      "===========\n",
      "\n",
      "Final index is: 20606\n"
     ]
    }
   ],
   "source": [
    "print('*******\\nPuzzle1\\n*******\\n')\n",
    "\n",
    "print('Test case\\n=========\\n')\n",
    "\n",
    "salt = read_input('input14a.txt')\n",
    "\n",
    "idx = find_n_keys(salt)\n",
    "\n",
    "print(f'Final index is: {idx}')\n",
    "\n",
    "assert idx == 22728\n",
    "\n",
    "print('\\nPuzzle case\\n===========\\n')\n",
    "\n",
    "salt = read_input('input14.txt')\n",
    "\n",
    "idx = find_n_keys(salt)\n",
    "\n",
    "print(f'Final index is: {idx}')\n",
    "\n",
    "assert idx == 23769\n",
    "\n",
    "print('\\n*******\\nPuzzle2\\n*******\\n')\n",
    "\n",
    "print('Test case\\n=========\\n')\n",
    "\n",
    "salt = read_input('input14a.txt')\n",
    "\n",
    "idx = find_n_keys(salt, 2016)\n",
    "\n",
    "print(f'Final index is: {idx}')\n",
    "\n",
    "assert idx == 22551\n",
    "\n",
    "print('\\nPuzzle case\\n===========\\n')\n",
    "\n",
    "salt = read_input('input14.txt')\n",
    "\n",
    "idx = find_n_keys(salt, 2016)\n",
    "\n",
    "print(f'Final index is: {idx}')\n",
    "\n",
    "assert idx == 20606\n"
   ]
  },
  {
   "cell_type": "code",
   "execution_count": 146,
   "id": "9fe00a8e-3274-4070-8357-3f60f27e7456",
   "metadata": {},
   "outputs": [
    {
     "data": {
      "text/plain": [
       "'a107ff634856bb300138cac6568c0f24'"
      ]
     },
     "execution_count": 146,
     "metadata": {},
     "output_type": "execute_result"
    }
   ],
   "source": [
    "calc_hash('abc', 0, 2016)"
   ]
  },
  {
   "cell_type": "code",
   "execution_count": null,
   "id": "8bde9b45-edbf-420f-91b1-0cb0057f88f7",
   "metadata": {},
   "outputs": [],
   "source": []
  }
 ],
 "metadata": {
  "kernelspec": {
   "display_name": "Python 3 (ipykernel)",
   "language": "python",
   "name": "python3"
  },
  "language_info": {
   "codemirror_mode": {
    "name": "ipython",
    "version": 3
   },
   "file_extension": ".py",
   "mimetype": "text/x-python",
   "name": "python",
   "nbconvert_exporter": "python",
   "pygments_lexer": "ipython3",
   "version": "3.10.4"
  }
 },
 "nbformat": 4,
 "nbformat_minor": 5
}

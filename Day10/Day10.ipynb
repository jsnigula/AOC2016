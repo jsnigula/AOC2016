{
 "cells": [
  {
   "cell_type": "code",
   "execution_count": 5,
   "id": "4db68924",
   "metadata": {},
   "outputs": [],
   "source": [
    "from collections import defaultdict"
   ]
  },
  {
   "cell_type": "code",
   "execution_count": 34,
   "id": "3ac506d9",
   "metadata": {},
   "outputs": [
    {
     "name": "stdout",
     "output_type": "stream",
     "text": [
      "Bot 181 compares 17 and 61\n",
      "\n",
      "Part 2\n",
      "\n",
      "Result is 12567\n"
     ]
    }
   ],
   "source": [
    "bots = {}\n",
    "inputs = defaultdict(set)\n",
    "compares = {}\n",
    "\n",
    "with open('input10.txt', 'r') as inf:\n",
    "    data = [l.strip() for l in inf]\n",
    "    \n",
    "for d in data:\n",
    "    v = d.split()\n",
    "    if d.startswith('value'):\n",
    "        inputs[v[5]].add(int(v[1]))\n",
    "    else:\n",
    "        if v[5] == 'output':\n",
    "            l = f'o_{v[6]}'\n",
    "        else:\n",
    "            l = v[6]\n",
    "        if v[10] == 'output':\n",
    "            h = f'o_{v[11]}'\n",
    "        else:\n",
    "            h = v[11]\n",
    "        bots[v[1]] = (l, h)\n",
    "        \n",
    "        \n",
    "done = False\n",
    "\n",
    "while not done:\n",
    "# for _ in range(5):\n",
    "    done = True\n",
    "    for b, v in bots.items():\n",
    "        if b not in inputs:\n",
    "            done = False\n",
    "            continue\n",
    "        if len(inputs[b]) != 2:\n",
    "            done = False\n",
    "            continue\n",
    "        tl, th = v\n",
    "        v1, v2 = inputs[b]\n",
    "        if v1 <= v2:\n",
    "            inputs[tl].add(v1)\n",
    "            inputs[th].add(v2)\n",
    "            compares[b] = [v1, v2]\n",
    "        else:\n",
    "            inputs[tl].add(v2)\n",
    "            inputs[th].add(v1)\n",
    "            compares[b] = [v2, v1]\n",
    "\n",
    "for b, v in compares.items():\n",
    "    if v == [17, 61]:\n",
    "        print(f'Bot {b} compares 17 and 61')\n",
    "\n",
    "print('\\nPart 2\\n')\n",
    "\n",
    "\n",
    "print(f'Result is {inputs[\"o_0\"].pop() * inputs[\"o_1\"].pop() * inputs[\"o_2\"].pop()}')"
   ]
  },
  {
   "cell_type": "code",
   "execution_count": 33,
   "id": "f9c828e9",
   "metadata": {},
   "outputs": [
    {
     "name": "stdout",
     "output_type": "stream",
     "text": [
      "1\n"
     ]
    }
   ],
   "source": [
    "a =set()\n",
    "a.add(1)\n",
    "a.add(3)\n",
    "x, y = a\n",
    "print(a.pop())"
   ]
  },
  {
   "cell_type": "code",
   "execution_count": null,
   "id": "9a59a273",
   "metadata": {},
   "outputs": [],
   "source": []
  }
 ],
 "metadata": {
  "kernelspec": {
   "display_name": "Python 3 (ipykernel)",
   "language": "python",
   "name": "python3"
  },
  "language_info": {
   "codemirror_mode": {
    "name": "ipython",
    "version": 3
   },
   "file_extension": ".py",
   "mimetype": "text/x-python",
   "name": "python",
   "nbconvert_exporter": "python",
   "pygments_lexer": "ipython3",
   "version": "3.10.4"
  }
 },
 "nbformat": 4,
 "nbformat_minor": 5
}

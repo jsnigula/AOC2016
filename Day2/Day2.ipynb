{
 "cells": [
  {
   "cell_type": "code",
   "execution_count": 8,
   "id": "36a55adc",
   "metadata": {},
   "outputs": [
    {
     "name": "stdout",
     "output_type": "stream",
     "text": [
      "Code 47978\n",
      "\n",
      "Part2\n",
      "\n",
      "Fancy Code 659AD\n"
     ]
    }
   ],
   "source": [
    "with open('input2.txt', 'r') as inf:\n",
    "    moves = [l.strip() for l in inf]\n",
    "    \n",
    "code = ''\n",
    "\n",
    "px = 1\n",
    "py = 1\n",
    "\n",
    "codepad = {(0, 2): '1',\n",
    "          (1, 2): '2',\n",
    "          (2, 2): '3',\n",
    "          (0, 1): '4',\n",
    "          (1, 1): '5',\n",
    "          (2, 1): '6',\n",
    "          (0, 0): '7',\n",
    "          (1, 0): '8',\n",
    "          (2, 0): '9'}\n",
    "\n",
    "for l in moves:\n",
    "    for d in l:\n",
    "        if d == 'U':\n",
    "            py = min(2, py+1)\n",
    "        elif d == 'R':\n",
    "            px = min(2, px+1)\n",
    "        elif d == 'D':\n",
    "            py = max(0, py-1)\n",
    "        elif d == 'L':\n",
    "            px = max(0, px-1)\n",
    "    code += codepad[(px, py)]\n",
    "    \n",
    "print(f'Code {code}')\n",
    "\n",
    "print('\\nPart2\\n')\n",
    "\n",
    "fancy_codepad = {(0, 2): '5',\n",
    "          (1, 1): 'A',\n",
    "          (1, 2): '6',\n",
    "          (1, 3): '2',\n",
    "          (2, 0): 'D',\n",
    "          (2, 1): 'B',\n",
    "          (2, 2): '7',\n",
    "          (2, 3): '3',\n",
    "          (2, 4): '1',\n",
    "          (3, 1): 'C',\n",
    "          (3, 2): '8',\n",
    "          (3, 3): '4',\n",
    "          (4, 2): '9'}\n",
    "\n",
    "px = 0\n",
    "py = 2\n",
    "\n",
    "code = ''\n",
    "\n",
    "for l in moves:\n",
    "    for d in l:\n",
    "        npx = px\n",
    "        npy = py\n",
    "        if d == 'U':\n",
    "            npy = py+1\n",
    "        elif d == 'R':\n",
    "            npx = px+1\n",
    "        elif d == 'D':\n",
    "            npy = py-1\n",
    "        elif d == 'L':\n",
    "            npx = px-1\n",
    "            \n",
    "        if (npx, npy) in fancy_codepad:\n",
    "            px = npx\n",
    "            py = npy\n",
    "\n",
    "    code += fancy_codepad[(px, py)]\n",
    "    \n",
    "print(f'Fancy Code {code}')\n"
   ]
  },
  {
   "cell_type": "code",
   "execution_count": null,
   "id": "01183a02",
   "metadata": {},
   "outputs": [],
   "source": []
  }
 ],
 "metadata": {
  "kernelspec": {
   "display_name": "Python 3 (ipykernel)",
   "language": "python",
   "name": "python3"
  },
  "language_info": {
   "codemirror_mode": {
    "name": "ipython",
    "version": 3
   },
   "file_extension": ".py",
   "mimetype": "text/x-python",
   "name": "python",
   "nbconvert_exporter": "python",
   "pygments_lexer": "ipython3",
   "version": "3.10.4"
  }
 },
 "nbformat": 4,
 "nbformat_minor": 5
}
